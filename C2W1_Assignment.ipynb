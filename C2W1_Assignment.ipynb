{
  "cells": [
    {
      "cell_type": "markdown",
      "id": "fc59dbb8",
      "metadata": {
        "id": "fc59dbb8"
      },
      "source": [
        "# Week 1: Using CNN's with the Cats vs Dogs Dataset\n",
        "\n",
        "Welcome to the 1st assignment of the course! This week, you will be using the famous `Cats vs Dogs` dataset to train a model that can classify images of dogs from images of cats. For this, you will create your own Convolutional Neural Network in Tensorflow and leverage Keras' image preprocessing utilities.\n",
        "\n",
        "You will also create some helper functions to move the images around the filesystem so if you are not familiar with the `os` module be sure to take a look a the [docs](https://docs.python.org/3/library/os.html).\n",
        "\n",
        "Let's get started!"
      ]
    },
    {
      "cell_type": "markdown",
      "id": "84dcabb6",
      "metadata": {
        "id": "84dcabb6"
      },
      "source": [
        "_**NOTE:** To prevent errors from the autograder, pleave avoid editing or deleting non-graded cells in this notebook . Please only put your solutions in between the `### START CODE HERE` and `### END CODE HERE` code comments, and refrain from adding any new cells._"
      ]
    },
    {
      "cell_type": "code",
      "execution_count": null,
      "id": "b0179aa5",
      "metadata": {
        "id": "b0179aa5",
        "tags": [
          "graded"
        ]
      },
      "outputs": [],
      "source": [
        "# grader-required-cell\n",
        "\n",
        "import os\n",
        "import zipfile\n",
        "import random\n",
        "import shutil\n",
        "import tensorflow as tf\n",
        "from tensorflow.keras.preprocessing.image import ImageDataGenerator\n",
        "from shutil import copyfile\n",
        "import matplotlib.pyplot as plt"
      ]
    },
    {
      "cell_type": "markdown",
      "id": "ffcd9e7e",
      "metadata": {
        "id": "ffcd9e7e"
      },
      "source": [
        "Download the dataset from its original source by running the cell below. \n",
        "\n",
        "Note that the `zip` file that contains the images is unzipped under the `/tmp` directory."
      ]
    },
    {
      "cell_type": "code",
      "execution_count": 9,
      "id": "c881d8ff",
      "metadata": {
        "id": "c881d8ff",
        "lines_to_next_cell": 2,
        "tags": [],
        "outputId": "1eee7038-6c22-4afa-e666-6c7d1446e0d2",
        "colab": {
          "base_uri": "https://localhost:8080/"
        }
      },
      "outputs": [
        {
          "output_type": "stream",
          "name": "stdout",
          "text": [
            "--2023-03-28 06:55:40--  https://download.microsoft.com/download/3/E/1/3E1C3F21-ECDB-4869-8368-6DEBA77B919F/kagglecatsanddogs_5340.zip\n",
            "Resolving download.microsoft.com (download.microsoft.com)... 96.17.188.215, 2600:1417:1000:893::317f, 2600:1417:1000:88e::317f\n",
            "Connecting to download.microsoft.com (download.microsoft.com)|96.17.188.215|:443... failed: Connection timed out.\n",
            "Connecting to download.microsoft.com (download.microsoft.com)|2600:1417:1000:893::317f|:443... failed: Cannot assign requested address.\n",
            "Connecting to download.microsoft.com (download.microsoft.com)|2600:1417:1000:88e::317f|:443... failed: Cannot assign requested address.\n",
            "Retrying.\n",
            "\n",
            "--2023-03-28 06:57:52--  (try: 2)  https://download.microsoft.com/download/3/E/1/3E1C3F21-ECDB-4869-8368-6DEBA77B919F/kagglecatsanddogs_5340.zip\n",
            "Connecting to download.microsoft.com (download.microsoft.com)|96.17.188.215|:443... failed: No route to host.\n",
            "Connecting to download.microsoft.com (download.microsoft.com)|2600:1417:1000:893::317f|:443... failed: Cannot assign requested address.\n",
            "Connecting to download.microsoft.com (download.microsoft.com)|2600:1417:1000:88e::317f|:443... failed: Cannot assign requested address.\n",
            "Retrying.\n",
            "\n",
            "--2023-03-28 06:58:01--  (try: 3)  https://download.microsoft.com/download/3/E/1/3E1C3F21-ECDB-4869-8368-6DEBA77B919F/kagglecatsanddogs_5340.zip\n",
            "Connecting to download.microsoft.com (download.microsoft.com)|96.17.188.215|:443... failed: Connection timed out.\n",
            "Connecting to download.microsoft.com (download.microsoft.com)|2600:1417:1000:893::317f|:443... failed: Cannot assign requested address.\n",
            "Connecting to download.microsoft.com (download.microsoft.com)|2600:1417:1000:88e::317f|:443... failed: Cannot assign requested address.\n",
            "Retrying.\n",
            "\n",
            "--2023-03-28 07:00:13--  (try: 4)  https://download.microsoft.com/download/3/E/1/3E1C3F21-ECDB-4869-8368-6DEBA77B919F/kagglecatsanddogs_5340.zip\n",
            "Connecting to download.microsoft.com (download.microsoft.com)|96.17.188.215|:443... connected.\n",
            "HTTP request sent, awaiting response... 200 OK\n",
            "Length: 824887076 (787M) [application/octet-stream]\n",
            "Saving to: ‘/tmp/cats-and-dogs.zip’\n",
            "\n",
            "/tmp/cats-and-dogs. 100%[===================>] 786.67M  77.6MB/s    in 17s     \n",
            "\n",
            "2023-03-28 07:01:35 (45.6 MB/s) - ‘/tmp/cats-and-dogs.zip’ saved [824887076/824887076]\n",
            "\n"
          ]
        }
      ],
      "source": [
        "# If the URL doesn't work, visit https://www.microsoft.com/en-us/download/confirmation.aspx?id=54765\n",
        "# And right click on the 'Download Manually' link to get a new URL to the dataset\n",
        "\n",
        "# Note: This is a very large dataset and will take some time to download\n",
        "\n",
        "!wget --no-check-certificate \\\n",
        "    \"https://download.microsoft.com/download/3/E/1/3E1C3F21-ECDB-4869-8368-6DEBA77B919F/kagglecatsanddogs_5340.zip\" \\\n",
        "    -O \"/tmp/cats-and-dogs.zip\"\n",
        "\n",
        "local_zip = '/tmp/cats-and-dogs.zip'\n",
        "zip_ref   = zipfile.ZipFile(local_zip, 'r')\n",
        "zip_ref.extractall('/tmp')\n",
        "zip_ref.close()"
      ]
    },
    {
      "cell_type": "markdown",
      "id": "e3094745",
      "metadata": {
        "id": "e3094745"
      },
      "source": [
        "Now the images are stored within the `/tmp/PetImages` directory. There is a subdirectory for each class, so one for dogs and one for cats."
      ]
    },
    {
      "cell_type": "code",
      "execution_count": 10,
      "id": "bc3a9fa5",
      "metadata": {
        "id": "bc3a9fa5",
        "tags": [
          "graded"
        ],
        "outputId": "f8e1d2ed-9221-414e-e877-40928166d772",
        "colab": {
          "base_uri": "https://localhost:8080/"
        }
      },
      "outputs": [
        {
          "output_type": "stream",
          "name": "stdout",
          "text": [
            "There are 12500 images of dogs.\n",
            "There are 12500 images of cats.\n"
          ]
        }
      ],
      "source": [
        "# grader-required-cell\n",
        "\n",
        "source_path = '/tmp/PetImages'\n",
        "\n",
        "source_path_dogs = os.path.join(source_path, 'Dog')\n",
        "source_path_cats = os.path.join(source_path, 'Cat')\n",
        "\n",
        "# Deletes all non-image files (there are two .db files bundled into the dataset)\n",
        "!find /tmp/PetImages/ -type f ! -name \"*.jpg\" -exec rm {} +\n",
        "\n",
        "# os.listdir returns a list containing all files under the given path\n",
        "print(f\"There are {len(os.listdir(source_path_dogs))} images of dogs.\")\n",
        "print(f\"There are {len(os.listdir(source_path_cats))} images of cats.\")"
      ]
    },
    {
      "cell_type": "markdown",
      "id": "f98b9905",
      "metadata": {
        "id": "f98b9905"
      },
      "source": [
        "**Expected Output:**\n",
        "\n",
        "```\n",
        "There are 12500 images of dogs.\n",
        "There are 12500 images of cats.\n",
        "```"
      ]
    },
    {
      "cell_type": "markdown",
      "id": "7e7e2d79",
      "metadata": {
        "id": "7e7e2d79"
      },
      "source": [
        "You will need a directory for cats-v-dogs, and subdirectories for training\n",
        "and validation. These in turn will need subdirectories for 'cats' and 'dogs'. To accomplish this, complete the `create_train_val_dirs` below:"
      ]
    },
    {
      "cell_type": "code",
      "execution_count": 18,
      "id": "52ef5808",
      "metadata": {
        "cellView": "code",
        "id": "52ef5808",
        "tags": [
          "graded"
        ]
      },
      "outputs": [],
      "source": [
        "# grader-required-cell\n",
        "\n",
        "# Define root directory\n",
        "root_dir = '/tmp/cats-v-dogs'\n",
        "\n",
        "# Empty directory to prevent FileExistsError is the function is run several times\n",
        "if os.path.exists(root_dir):\n",
        "  shutil.rmtree(root_dir)\n",
        "\n",
        "# GRADED FUNCTION: create_train_val_dirs\n",
        "def create_train_val_dirs(root_path):\n",
        "  \"\"\"\n",
        "  Creates directories for the train and test sets\n",
        "  \n",
        "  Args:\n",
        "    root_path (string) - the base directory path to create subdirectories from\n",
        "  \n",
        "  Returns:\n",
        "    None\n",
        "  \"\"\"\n",
        "  ### START CODE HERE\n",
        "\n",
        "  # HINT:\n",
        "  # Use os.makedirs to create your directories with intermediate subdirectories\n",
        "  # Don't hardcode the paths. Use os.path.join to append the new directories to the root_path parameter\n",
        "\n",
        "  train_dir = os.path.join(root_dir, 'training')\n",
        "  validation_dir = os.path.join(root_dir, 'validation')\n",
        "  train_cats_dir = os.path.join(train_dir, 'cats')\n",
        "  train_dogs_dir = os.path.join(train_dir, 'dogs')\n",
        "\n",
        "# Directory with validation cat/dog pictures\n",
        "  validation_cats_dir = os.path.join(validation_dir, 'cats')\n",
        "  validation_dogs_dir = os.path.join(validation_dir, 'dogs')\n",
        "\n",
        "  os.makedirs(train_cats_dir)\n",
        "  os.makedirs(train_dogs_dir)\n",
        "  os.makedirs(validation_cats_dir)\n",
        "  os.makedirs(validation_dogs_dir)\n",
        "\n",
        "  ### END CODE HERE\n",
        "\n",
        "  \n",
        "try:\n",
        "  create_train_val_dirs(root_path=root_dir)\n",
        "except FileExistsError:\n",
        "  print(\"You should not be seeing this since the upper directory is removed beforehand\")"
      ]
    },
    {
      "cell_type": "code",
      "execution_count": 19,
      "id": "5c43b630",
      "metadata": {
        "id": "5c43b630",
        "tags": [
          "graded"
        ],
        "outputId": "d7bbf350-d02a-4f5f-de3f-cbeca26d05b0",
        "colab": {
          "base_uri": "https://localhost:8080/"
        }
      },
      "outputs": [
        {
          "output_type": "stream",
          "name": "stdout",
          "text": [
            "/tmp/cats-v-dogs/validation\n",
            "/tmp/cats-v-dogs/training\n",
            "/tmp/cats-v-dogs/validation/cats\n",
            "/tmp/cats-v-dogs/validation/dogs\n",
            "/tmp/cats-v-dogs/training/cats\n",
            "/tmp/cats-v-dogs/training/dogs\n"
          ]
        }
      ],
      "source": [
        "# grader-required-cell\n",
        "\n",
        "# Test your create_train_val_dirs function\n",
        "\n",
        "for rootdir, dirs, files in os.walk(root_dir):\n",
        "    for subdir in dirs:\n",
        "        print(os.path.join(rootdir, subdir))"
      ]
    },
    {
      "cell_type": "markdown",
      "id": "e2009a58",
      "metadata": {
        "id": "e2009a58"
      },
      "source": [
        "**Expected Output (directory order might vary):**\n",
        "\n",
        "``` txt\n",
        "/tmp/cats-v-dogs/training\n",
        "/tmp/cats-v-dogs/validation\n",
        "/tmp/cats-v-dogs/training/cats\n",
        "/tmp/cats-v-dogs/training/dogs\n",
        "/tmp/cats-v-dogs/validation/cats\n",
        "/tmp/cats-v-dogs/validation/dogs\n",
        "\n",
        "```"
      ]
    },
    {
      "cell_type": "markdown",
      "id": "3f296af6",
      "metadata": {
        "id": "3f296af6"
      },
      "source": [
        "Code the `split_data` function which takes in the following arguments:\n",
        "- SOURCE_DIR: directory containing the files\n",
        "\n",
        "- TRAINING_DIR: directory that a portion of the files will be copied to (will be used for training)\n",
        "- VALIDATION_DIR: directory that a portion of the files will be copied to (will be used for validation)\n",
        "- SPLIT_SIZE: determines the portion of images used for training.\n",
        "\n",
        "The files should be randomized, so that the training set is a random sample of the files, and the validation set is made up of the remaining files.\n",
        "\n",
        "For example, if `SOURCE_DIR` is `PetImages/Cat`, and `SPLIT_SIZE` is .9 then 90% of the images in `PetImages/Cat` will be copied to the `TRAINING_DIR` directory\n",
        "and 10% of the images will be copied to the `VALIDATION_DIR` directory.\n",
        "\n",
        "All images should be checked before the copy, so if they have a zero file length, they will be omitted from the copying process. If this is the case then your function should print out a message such as `\"filename is zero length, so ignoring.\"`. **You should perform this check before the split so that only non-zero images are considered when doing the actual split.**\n",
        "\n",
        "\n",
        "Hints:\n",
        "\n",
        "- `os.listdir(DIRECTORY)` returns a list with the contents of that directory.\n",
        "\n",
        "- `os.path.getsize(PATH)` returns the size of the file\n",
        "\n",
        "- `copyfile(source, destination)` copies a file from source to destination\n",
        "\n",
        "- `random.sample(list, len(list))` shuffles a list"
      ]
    },
    {
      "cell_type": "code",
      "execution_count": 27,
      "id": "51d821b1",
      "metadata": {
        "cellView": "code",
        "id": "51d821b1",
        "tags": [
          "graded"
        ]
      },
      "outputs": [],
      "source": [
        "# grader-required-cell\n",
        "\n",
        "# GRADED FUNCTION: split_data\n",
        "def split_data(SOURCE_DIR, TRAINING_DIR, VALIDATION_DIR, SPLIT_SIZE):\n",
        "  \"\"\"\n",
        "  Splits the data into train and test sets\n",
        "  \n",
        "  Args:\n",
        "    SOURCE_DIR (string): directory path containing the images\n",
        "    TRAINING_DIR (string): directory path to be used for training\n",
        "    VALIDATION_DIR (string): directory path to be used for validation\n",
        "    SPLIT_SIZE (float): proportion of the dataset to be used for training\n",
        "    \n",
        "  Returns:\n",
        "    None\n",
        "  \"\"\"\n",
        "\n",
        "  ### START CODE HERE\n",
        "  files=[]\n",
        "  for filename in os.listdir(SOURCE_DIR):\n",
        "    file = SOURCE_DIR + filename\n",
        "    if os.path.getsize(file) > 0:\n",
        "      files.append(filename)\n",
        "    else:\n",
        "      print(filename + \" is zero length\")\n",
        "  \n",
        "  training_length = int(len(files) * SPLIT_SIZE)\n",
        "  validation_length = int(len(files) - training_length)\n",
        "  shuffled_set = random.sample(files, len(files))\n",
        "  training_set = shuffled_set[0:training_length]\n",
        "  validation_set = shuffled_set[-validation_length:]\n",
        "  print(validation_set)\n",
        "  for filename in training_set:\n",
        "    this_file = SOURCE_DIR + filename\n",
        "    destination = TRAINING_DIR + filename\n",
        "    copyfile(this_file, destination)\n",
        "\n",
        "  for filename in validation_set:\n",
        "    this_file = SOURCE_DIR + filename\n",
        "    destination = VALIDATION_DIR + filename\n",
        "    copyfile(this_file, destination)\n",
        "\n",
        "\n",
        "  ### END CODE HERE"
      ]
    },
    {
      "cell_type": "code",
      "execution_count": 28,
      "id": "e5a316b6",
      "metadata": {
        "id": "e5a316b6",
        "tags": [
          "graded"
        ],
        "outputId": "86697346-bf1a-4365-a2e1-2991c6ac0ec5",
        "colab": {
          "base_uri": "https://localhost:8080/"
        }
      },
      "outputs": [
        {
          "output_type": "stream",
          "name": "stdout",
          "text": [
            "666.jpg is zero length\n",
            "['9663.jpg', '8580.jpg', '7703.jpg', '7623.jpg', '11300.jpg', '10939.jpg', '1593.jpg', '7257.jpg', '11105.jpg', '6524.jpg', '8819.jpg', '9604.jpg', '8094.jpg', '5365.jpg', '1572.jpg', '6890.jpg', '5177.jpg', '721.jpg', '7563.jpg', '4062.jpg', '11163.jpg', '8916.jpg', '4609.jpg', '9633.jpg', '7226.jpg', '6359.jpg', '12226.jpg', '3968.jpg', '7422.jpg', '6481.jpg', '12274.jpg', '568.jpg', '11586.jpg', '4653.jpg', '4853.jpg', '9763.jpg', '6140.jpg', '905.jpg', '7685.jpg', '785.jpg', '9298.jpg', '1347.jpg', '10646.jpg', '10468.jpg', '6287.jpg', '12118.jpg', '93.jpg', '2963.jpg', '3722.jpg', '7092.jpg', '2955.jpg', '6458.jpg', '11539.jpg', '3830.jpg', '11303.jpg', '945.jpg', '627.jpg', '9306.jpg', '717.jpg', '5696.jpg', '806.jpg', '384.jpg', '10152.jpg', '8841.jpg', '5516.jpg', '3295.jpg', '7911.jpg', '8159.jpg', '11542.jpg', '73.jpg', '3474.jpg', '770.jpg', '1221.jpg', '7672.jpg', '6688.jpg', '8464.jpg', '3521.jpg', '6022.jpg', '3942.jpg', '205.jpg', '10571.jpg', '891.jpg', '4505.jpg', '2779.jpg', '12270.jpg', '5581.jpg', '9067.jpg', '8782.jpg', '5013.jpg', '3913.jpg', '12441.jpg', '9172.jpg', '2293.jpg', '5268.jpg', '11221.jpg', '5100.jpg', '2885.jpg', '9429.jpg', '5261.jpg', '2627.jpg', '2062.jpg', '3451.jpg', '3645.jpg', '1313.jpg', '92.jpg', '3868.jpg', '11121.jpg', '3709.jpg', '1321.jpg', '1179.jpg', '918.jpg', '6605.jpg', '2346.jpg', '10837.jpg', '5074.jpg', '2465.jpg', '6076.jpg', '11410.jpg', '632.jpg', '11612.jpg', '4204.jpg', '10580.jpg', '8928.jpg', '8572.jpg', '11358.jpg', '10107.jpg', '4219.jpg', '5883.jpg', '10964.jpg', '3522.jpg', '2506.jpg', '6044.jpg', '1273.jpg', '1092.jpg', '6360.jpg', '3812.jpg', '2903.jpg', '10664.jpg', '3832.jpg', '6706.jpg', '5739.jpg', '8205.jpg', '9334.jpg', '7522.jpg', '11362.jpg', '10915.jpg', '5929.jpg', '4603.jpg', '12374.jpg', '5292.jpg', '7446.jpg', '10420.jpg', '551.jpg', '2685.jpg', '11353.jpg', '6905.jpg', '6056.jpg', '10977.jpg', '1191.jpg', '6100.jpg', '6853.jpg', '3873.jpg', '1378.jpg', '4065.jpg', '12182.jpg', '6947.jpg', '6269.jpg', '9876.jpg', '11208.jpg', '1788.jpg', '2714.jpg', '5818.jpg', '11701.jpg', '4617.jpg', '4506.jpg', '9292.jpg', '2147.jpg', '10008.jpg', '1423.jpg', '4990.jpg', '1392.jpg', '3633.jpg', '7848.jpg', '11034.jpg', '2833.jpg', '7513.jpg', '10310.jpg', '11402.jpg', '6999.jpg', '8799.jpg', '7854.jpg', '10335.jpg', '8555.jpg', '11892.jpg', '11088.jpg', '11622.jpg', '5314.jpg', '482.jpg', '10042.jpg', '4245.jpg', '7059.jpg', '1244.jpg', '7607.jpg', '9736.jpg', '10743.jpg', '5440.jpg', '3511.jpg', '6957.jpg', '401.jpg', '12131.jpg', '789.jpg', '11249.jpg', '7326.jpg', '6252.jpg', '6241.jpg', '6270.jpg', '2335.jpg', '4087.jpg', '11605.jpg', '4865.jpg', '7937.jpg', '5741.jpg', '4033.jpg', '9999.jpg', '4702.jpg', '10194.jpg', '8669.jpg', '429.jpg', '8648.jpg', '8019.jpg', '9910.jpg', '11158.jpg', '2911.jpg', '1863.jpg', '62.jpg', '11159.jpg', '5731.jpg', '5748.jpg', '9665.jpg', '3691.jpg', '5214.jpg', '10680.jpg', '12208.jpg', '253.jpg', '6028.jpg', '10626.jpg', '7537.jpg', '372.jpg', '6664.jpg', '4857.jpg', '3288.jpg', '10741.jpg', '10927.jpg', '4836.jpg', '1661.jpg', '1631.jpg', '8848.jpg', '8885.jpg', '11248.jpg', '6454.jpg', '6949.jpg', '177.jpg', '1888.jpg', '3056.jpg', '7383.jpg', '7784.jpg', '9034.jpg', '3621.jpg', '827.jpg', '3443.jpg', '6956.jpg', '1189.jpg', '8768.jpg', '1292.jpg', '2966.jpg', '7748.jpg', '5150.jpg', '2744.jpg', '2413.jpg', '9834.jpg', '4181.jpg', '11787.jpg', '10345.jpg', '5803.jpg', '12041.jpg', '6312.jpg', '3727.jpg', '8249.jpg', '8694.jpg', '10343.jpg', '9204.jpg', '6248.jpg', '2988.jpg', '3800.jpg', '11093.jpg', '8922.jpg', '3938.jpg', '4214.jpg', '8132.jpg', '9139.jpg', '5303.jpg', '3190.jpg', '5824.jpg', '4011.jpg', '3855.jpg', '2184.jpg', '5684.jpg', '11145.jpg', '10712.jpg', '12199.jpg', '5492.jpg', '10294.jpg', '694.jpg', '8805.jpg', '1762.jpg', '607.jpg', '9175.jpg', '11361.jpg', '2997.jpg', '5297.jpg', '4978.jpg', '704.jpg', '2936.jpg', '10853.jpg', '7462.jpg', '10271.jpg', '11936.jpg', '7013.jpg', '3878.jpg', '9934.jpg', '6466.jpg', '2791.jpg', '6712.jpg', '9290.jpg', '2759.jpg', '2265.jpg', '10161.jpg', '4633.jpg', '10142.jpg', '10314.jpg', '2998.jpg', '7684.jpg', '10054.jpg', '10262.jpg', '4626.jpg', '8825.jpg', '1726.jpg', '8352.jpg', '4983.jpg', '11382.jpg', '11965.jpg', '529.jpg', '5023.jpg', '2669.jpg', '6562.jpg', '10398.jpg', '4119.jpg', '3196.jpg', '7507.jpg', '1466.jpg', '34.jpg', '8731.jpg', '4667.jpg', '10925.jpg', '9390.jpg', '1974.jpg', '5680.jpg', '10277.jpg', '12123.jpg', '6208.jpg', '12082.jpg', '617.jpg', '11960.jpg', '11940.jpg', '9801.jpg', '8181.jpg', '7894.jpg', '9734.jpg', '5484.jpg', '10944.jpg', '12143.jpg', '4177.jpg', '3216.jpg', '1651.jpg', '10539.jpg', '5242.jpg', '2012.jpg', '11014.jpg', '10171.jpg', '4522.jpg', '8459.jpg', '6030.jpg', '2824.jpg', '9170.jpg', '2153.jpg', '6462.jpg', '4026.jpg', '11388.jpg', '6770.jpg', '7751.jpg', '8526.jpg', '7736.jpg', '3592.jpg', '9444.jpg', '2253.jpg', '442.jpg', '1925.jpg', '5930.jpg', '1247.jpg', '5876.jpg', '12325.jpg', '5545.jpg', '254.jpg', '2256.jpg', '7875.jpg', '1630.jpg', '10004.jpg', '8936.jpg', '378.jpg', '4049.jpg', '6385.jpg', '9568.jpg', '856.jpg', '1622.jpg', '2430.jpg', '859.jpg', '3679.jpg', '5465.jpg', '10781.jpg', '10895.jpg', '9803.jpg', '12445.jpg', '11835.jpg', '953.jpg', '9905.jpg', '5317.jpg', '4393.jpg', '3347.jpg', '9858.jpg', '2074.jpg', '3214.jpg', '12190.jpg', '11535.jpg', '11118.jpg', '8148.jpg', '6873.jpg', '1683.jpg', '10686.jpg', '362.jpg', '4137.jpg', '12432.jpg', '1400.jpg', '3708.jpg', '3510.jpg', '8289.jpg', '5959.jpg', '5390.jpg', '9757.jpg', '11785.jpg', '3201.jpg', '8470.jpg', '11025.jpg', '553.jpg', '11444.jpg', '8767.jpg', '844.jpg', '4627.jpg', '11046.jpg', '997.jpg', '1074.jpg', '11830.jpg', '10013.jpg', '1704.jpg', '11198.jpg', '1592.jpg', '8852.jpg', '5113.jpg', '7785.jpg', '993.jpg', '12165.jpg', '8929.jpg', '5408.jpg', '12282.jpg', '11599.jpg', '1554.jpg', '4076.jpg', '7345.jpg', '11117.jpg', '2634.jpg', '3626.jpg', '8808.jpg', '8719.jpg', '4364.jpg', '7375.jpg', '6105.jpg', '8969.jpg', '6050.jpg', '1884.jpg', '11974.jpg', '10076.jpg', '4650.jpg', '4484.jpg', '3195.jpg', '7870.jpg', '1561.jpg', '2967.jpg', '3971.jpg', '7295.jpg', '747.jpg', '3527.jpg', '10868.jpg', '7389.jpg', '5993.jpg', '10891.jpg', '3354.jpg', '7633.jpg', '782.jpg', '4894.jpg', '11122.jpg', '5379.jpg', '12409.jpg', '5099.jpg', '314.jpg', '11583.jpg', '4684.jpg', '3580.jpg', '7302.jpg', '178.jpg', '8445.jpg', '4977.jpg', '1145.jpg', '8728.jpg', '1569.jpg', '9387.jpg', '11164.jpg', '6054.jpg', '3022.jpg', '4902.jpg', '7998.jpg', '7702.jpg', '8875.jpg', '2013.jpg', '6836.jpg', '3024.jpg', '12271.jpg', '6234.jpg', '10430.jpg', '9901.jpg', '10611.jpg', '570.jpg', '11552.jpg', '88.jpg', '10242.jpg', '11507.jpg', '5683.jpg', '6682.jpg', '7971.jpg', '1169.jpg', '6483.jpg', '493.jpg', '2176.jpg', '1883.jpg', '3089.jpg', '2216.jpg', '3175.jpg', '4399.jpg', '6072.jpg', '1399.jpg', '8005.jpg', '3788.jpg', '9533.jpg', '9916.jpg', '10689.jpg', '6018.jpg', '9181.jpg', '6364.jpg', '113.jpg', '2478.jpg', '2989.jpg', '4738.jpg', '4370.jpg', '7250.jpg', '5139.jpg', '3266.jpg', '4740.jpg', '9125.jpg', '4705.jpg', '11302.jpg', '9997.jpg', '1269.jpg', '12149.jpg', '6198.jpg', '7334.jpg', '4641.jpg', '1351.jpg', '3280.jpg', '8087.jpg', '12383.jpg', '356.jpg', '5871.jpg', '12322.jpg', '7122.jpg', '11506.jpg', '11575.jpg', '8279.jpg', '11659.jpg', '28.jpg', '11181.jpg', '4950.jpg', '10968.jpg', '8228.jpg', '5751.jpg', '6473.jpg', '6587.jpg', '2547.jpg', '6581.jpg', '1530.jpg', '4791.jpg', '11773.jpg', '11955.jpg', '2927.jpg', '4827.jpg', '12167.jpg', '9458.jpg', '6497.jpg', '8481.jpg', '11859.jpg', '8466.jpg', '7274.jpg', '12203.jpg', '7662.jpg', '8911.jpg', '5420.jpg', '4338.jpg', '8348.jpg', '11387.jpg', '3970.jpg', '7787.jpg', '4525.jpg', '7128.jpg', '10301.jpg', '2706.jpg', '9585.jpg', '8738.jpg', '11695.jpg', '7613.jpg', '6338.jpg', '8475.jpg', '8749.jpg', '2022.jpg', '8740.jpg', '190.jpg', '12245.jpg', '4251.jpg', '726.jpg', '11216.jpg', '1317.jpg', '8855.jpg', '1267.jpg', '7739.jpg', '5867.jpg', '2040.jpg', '4958.jpg', '6130.jpg', '1419.jpg', '1784.jpg', '10823.jpg', '7647.jpg', '934.jpg', '5566.jpg', '12154.jpg', '2739.jpg', '10759.jpg', '1241.jpg', '6777.jpg', '8353.jpg', '247.jpg', '2203.jpg', '8462.jpg', '3482.jpg', '11168.jpg', '2076.jpg', '10515.jpg', '9490.jpg', '8111.jpg', '896.jpg', '10175.jpg', '11368.jpg', '8375.jpg', '9501.jpg', '12343.jpg', '6174.jpg', '8360.jpg', '9731.jpg', '10666.jpg', '2063.jpg', '10018.jpg', '6631.jpg', '11196.jpg', '3610.jpg', '6017.jpg', '9518.jpg', '6164.jpg', '221.jpg', '10496.jpg', '5262.jpg', '3072.jpg', '3217.jpg', '7144.jpg', '12291.jpg', '1205.jpg', '2471.jpg', '4312.jpg', '1896.jpg', '10549.jpg', '6591.jpg', '12263.jpg', '207.jpg', '1949.jpg', '11290.jpg', '8671.jpg', '1537.jpg', '2802.jpg', '10874.jpg', '5031.jpg', '4521.jpg', '936.jpg', '11979.jpg', '2364.jpg', '2509.jpg', '5148.jpg', '4315.jpg', '11980.jpg', '11817.jpg', '10765.jpg', '11774.jpg', '7330.jpg', '9519.jpg', '6169.jpg', '1339.jpg', '9393.jpg', '6855.jpg', '7363.jpg', '8338.jpg', '4120.jpg', '852.jpg', '522.jpg', '3516.jpg', '5197.jpg', '75.jpg', '241.jpg', '1725.jpg', '5642.jpg', '5212.jpg', '11309.jpg', '1112.jpg', '11724.jpg', '8533.jpg', '9555.jpg', '8089.jpg', '6985.jpg', '4560.jpg', '11297.jpg', '2609.jpg', '9859.jpg', '173.jpg', '11153.jpg', '4037.jpg', '10897.jpg', '10309.jpg', '7245.jpg', '10525.jpg', '2622.jpg', '9328.jpg', '1889.jpg', '5766.jpg', '5954.jpg', '4102.jpg', '5713.jpg', '1003.jpg', '11.jpg', '6445.jpg', '9475.jpg', '763.jpg', '59.jpg', '8821.jpg', '5215.jpg', '5631.jpg', '8082.jpg', '9311.jpg', '4417.jpg', '1903.jpg', '5964.jpg', '432.jpg', '11092.jpg', '4514.jpg', '3815.jpg', '9531.jpg', '5519.jpg', '6408.jpg', '7207.jpg', '2414.jpg', '4352.jpg', '2573.jpg', '834.jpg', '937.jpg', '1732.jpg', '3663.jpg', '1568.jpg', '5043.jpg', '2306.jpg', '2693.jpg', '2611.jpg', '5448.jpg', '4123.jpg', '16.jpg', '3377.jpg', '5037.jpg', '3009.jpg', '9793.jpg', '2544.jpg', '9398.jpg', '8672.jpg', '8287.jpg', '7907.jpg', '2242.jpg', '3620.jpg', '5564.jpg', '2261.jpg', '9486.jpg', '8538.jpg', '498.jpg', '9553.jpg', '7961.jpg', '9543.jpg', '6974.jpg', '5998.jpg', '5676.jpg', '212.jpg', '8448.jpg', '8960.jpg', '8884.jpg', '3821.jpg', '4963.jpg', '1594.jpg', '4876.jpg', '2178.jpg', '562.jpg', '12145.jpg', '6417.jpg', '2746.jpg', '10182.jpg', '9572.jpg', '7049.jpg', '2489.jpg', '7637.jpg', '1203.jpg', '9399.jpg', '11131.jpg', '11872.jpg', '2453.jpg', '8063.jpg', '3835.jpg', '12349.jpg', '4533.jpg', '3634.jpg', '11086.jpg', '9808.jpg', '1657.jpg', '2227.jpg', '12133.jpg', '10079.jpg', '692.jpg', '1629.jpg', '4502.jpg', '10212.jpg', '7958.jpg', '5161.jpg', '9376.jpg', '8137.jpg', '5808.jpg', '5720.jpg', '2120.jpg', '5502.jpg', '6162.jpg', '3564.jpg', '1740.jpg', '4665.jpg', '11488.jpg', '9969.jpg', '10428.jpg', '9691.jpg', '7999.jpg', '10971.jpg', '2513.jpg', '4223.jpg', '11288.jpg', '8438.jpg', '255.jpg', '4815.jpg', '1731.jpg', '1056.jpg', '6063.jpg', '454.jpg', '4748.jpg', '11634.jpg', '7358.jpg', '9822.jpg', '3569.jpg', '5027.jpg', '6801.jpg', '10631.jpg', '4695.jpg', '8869.jpg', '10098.jpg', '11144.jpg', '5497.jpg', '3067.jpg', '7017.jpg', '1954.jpg', '2727.jpg', '12304.jpg', '9366.jpg', '8973.jpg', '2942.jpg', '11136.jpg', '3294.jpg', '1340.jpg', '5402.jpg', '12448.jpg', '9494.jpg', '4725.jpg', '10796.jpg', '10347.jpg', '12394.jpg', '4845.jpg', '6110.jpg', '1555.jpg', '6601.jpg', '6736.jpg', '3602.jpg', '10449.jpg', '1151.jpg', '3230.jpg', '7630.jpg', '6436.jpg', '623.jpg', '7370.jpg', '2869.jpg', '767.jpg', '3355.jpg', '1428.jpg', '6553.jpg', '4551.jpg', '8397.jpg', '7341.jpg', '3261.jpg', '6275.jpg', '681.jpg', '812.jpg', '11958.jpg', '11688.jpg', '12260.jpg', '8752.jpg', '9288.jpg', '10990.jpg', '4727.jpg', '11670.jpg', '9315.jpg', '12077.jpg', '12487.jpg', '9481.jpg', '2241.jpg', '10255.jpg', '1146.jpg', '635.jpg', '11339.jpg', '4164.jpg', '1229.jpg', '10010.jpg', '10026.jpg', '733.jpg', '4654.jpg', '229.jpg', '6371.jpg', '8720.jpg', '2223.jpg', '7641.jpg', '11718.jpg', '4239.jpg', '5885.jpg', '683.jpg', '130.jpg', '8917.jpg', '9126.jpg', '11397.jpg', '5087.jpg', '1934.jpg', '8787.jpg', '3806.jpg', '9059.jpg', '3872.jpg', '12396.jpg', '3174.jpg', '2652.jpg', '9386.jpg', '9058.jpg', '1391.jpg', '7862.jpg', '7807.jpg', '5754.jpg', '7942.jpg', '7279.jpg', '11631.jpg', '4886.jpg', '7288.jpg', '7119.jpg', '11881.jpg', '8243.jpg', '7168.jpg', '6181.jpg', '35.jpg', '3365.jpg', '10973.jpg', '2299.jpg', '3124.jpg', '7523.jpg', '5017.jpg', '5257.jpg', '1219.jpg', '603.jpg', '9642.jpg', '3654.jpg', '12256.jpg', '5675.jpg', '7078.jpg', '4359.jpg', '1750.jpg', '1225.jpg', '6541.jpg', '1128.jpg', '11537.jpg', '11954.jpg', '3706.jpg', '5692.jpg', '9403.jpg', '738.jpg', '4844.jpg', '2160.jpg', '4159.jpg', '7750.jpg', '5961.jpg', '3660.jpg', '6522.jpg', '2548.jpg', '5309.jpg', '321.jpg', '3777.jpg', '11485.jpg', '11950.jpg', '6751.jpg', '7377.jpg', '5447.jpg', '10553.jpg', '6941.jpg', '7889.jpg', '5860.jpg', '162.jpg', '11070.jpg', '8818.jpg', '464.jpg', '10155.jpg', '8178.jpg', '6542.jpg', '5658.jpg', '1125.jpg', '2139.jpg', '11870.jpg', '10856.jpg', '912.jpg', '8374.jpg', '4148.jpg', '2742.jpg', '8952.jpg', '6062.jpg', '5086.jpg', '8554.jpg', '2583.jpg', '2606.jpg', '8701.jpg', '10610.jpg', '9965.jpg', '7813.jpg', '5714.jpg', '10035.jpg', '11439.jpg', '6740.jpg', '4408.jpg', '192.jpg', '8104.jpg', '6183.jpg', '11195.jpg', '1458.jpg', '2914.jpg', '11871.jpg', '8392.jpg', '1564.jpg', '8358.jpg', '9548.jpg', '10047.jpg', '2420.jpg', '3136.jpg', '8314.jpg', '9140.jpg', '96.jpg', '2919.jpg', '10038.jpg', '854.jpg', '11155.jpg', '2921.jpg', '8682.jpg', '848.jpg', '8418.jpg', '1905.jpg', '8472.jpg', '3160.jpg', '7915.jpg', '36.jpg', '7379.jpg', '8525.jpg', '8052.jpg', '12368.jpg', '7515.jpg', '1077.jpg', '10901.jpg', '1792.jpg', '12218.jpg', '6382.jpg', '5529.jpg', '2825.jpg', '1138.jpg', '10317.jpg', '5248.jpg', '7051.jpg', '11072.jpg', '5259.jpg', '5712.jpg', '3870.jpg', '515.jpg', '949.jpg', '7366.jpg', '3348.jpg', '764.jpg', '10463.jpg', '4303.jpg', '1816.jpg', '6002.jpg', '11301.jpg', '11721.jpg', '11632.jpg', '5911.jpg', '12392.jpg', '2540.jpg', '453.jpg', '6293.jpg', '1696.jpg', '9872.jpg', '1786.jpg', '630.jpg', '8163.jpg', '216.jpg', '6893.jpg', '3369.jpg', '8861.jpg', '11253.jpg', '1065.jpg', '7067.jpg', '8357.jpg', '11795.jpg', '3301.jpg', '10439.jpg', '2705.jpg', '9862.jpg', '1858.jpg', '9529.jpg', '2624.jpg', '3437.jpg', '8380.jpg', '5923.jpg', '11680.jpg', '6931.jpg', '2271.jpg', '11715.jpg', '12497.jpg', '12043.jpg', '609.jpg', '5787.jpg', '3966.jpg', '1263.jpg', '11672.jpg', '1910.jpg', '1116.jpg', '4001.jpg', '8025.jpg', '3611.jpg', '12351.jpg', '3357.jpg', '3063.jpg', '6660.jpg', '9857.jpg', '1837.jpg', '10156.jpg', '5081.jpg', '8822.jpg', '5181.jpg', '6687.jpg', '8502.jpg', '6663.jpg', '11885.jpg', '5236.jpg', '8258.jpg', '11831.jpg', '3154.jpg', '9870.jpg', '10726.jpg', '7910.jpg', '9718.jpg', '11033.jpg', '9468.jpg', '7251.jpg', '8058.jpg', '11166.jpg', '3252.jpg', '11245.jpg', '10297.jpg', '12262.jpg', '11516.jpg', '9427.jpg', '908.jpg', '4094.jpg', '1997.jpg', '12037.jpg', '3731.jpg', '263.jpg', '11864.jpg', '10378.jpg', '9202.jpg', '7222.jpg', '43.jpg', '7771.jpg']\n",
            "11702.jpg is zero length\n",
            "['3285.jpg', '5907.jpg', '7871.jpg', '11831.jpg', '5519.jpg', '9134.jpg', '1230.jpg', '6921.jpg', '1353.jpg', '10009.jpg', '1554.jpg', '7483.jpg', '2618.jpg', '6454.jpg', '3841.jpg', '10418.jpg', '2782.jpg', '11130.jpg', '4690.jpg', '7381.jpg', '7101.jpg', '5552.jpg', '7780.jpg', '4262.jpg', '302.jpg', '4825.jpg', '1610.jpg', '1474.jpg', '2939.jpg', '10805.jpg', '4559.jpg', '453.jpg', '12080.jpg', '6990.jpg', '5980.jpg', '2824.jpg', '5633.jpg', '9216.jpg', '9203.jpg', '2538.jpg', '3559.jpg', '8215.jpg', '11830.jpg', '4060.jpg', '8570.jpg', '11228.jpg', '7107.jpg', '4192.jpg', '10106.jpg', '8345.jpg', '44.jpg', '11623.jpg', '9220.jpg', '12125.jpg', '1178.jpg', '3927.jpg', '932.jpg', '5463.jpg', '11660.jpg', '4150.jpg', '227.jpg', '1647.jpg', '3000.jpg', '11064.jpg', '3858.jpg', '9345.jpg', '1349.jpg', '11036.jpg', '139.jpg', '5139.jpg', '1728.jpg', '10065.jpg', '5351.jpg', '3237.jpg', '927.jpg', '1549.jpg', '11792.jpg', '6409.jpg', '10274.jpg', '6812.jpg', '9521.jpg', '11788.jpg', '7523.jpg', '9835.jpg', '6249.jpg', '12090.jpg', '5949.jpg', '11166.jpg', '11354.jpg', '12242.jpg', '2663.jpg', '8343.jpg', '10779.jpg', '2143.jpg', '10685.jpg', '9413.jpg', '12234.jpg', '566.jpg', '8594.jpg', '630.jpg', '8389.jpg', '1177.jpg', '12029.jpg', '4197.jpg', '4853.jpg', '3443.jpg', '7946.jpg', '6584.jpg', '10464.jpg', '7463.jpg', '1980.jpg', '4.jpg', '2217.jpg', '5333.jpg', '10799.jpg', '8054.jpg', '9206.jpg', '11121.jpg', '863.jpg', '8288.jpg', '1379.jpg', '8218.jpg', '7549.jpg', '11495.jpg', '5250.jpg', '2941.jpg', '11730.jpg', '1818.jpg', '1505.jpg', '5213.jpg', '9007.jpg', '4895.jpg', '6021.jpg', '10636.jpg', '8407.jpg', '6709.jpg', '10047.jpg', '11376.jpg', '8118.jpg', '3819.jpg', '10679.jpg', '11041.jpg', '3799.jpg', '335.jpg', '2019.jpg', '7340.jpg', '8243.jpg', '11973.jpg', '9746.jpg', '10895.jpg', '8730.jpg', '1552.jpg', '10998.jpg', '2969.jpg', '961.jpg', '6464.jpg', '4137.jpg', '4315.jpg', '9750.jpg', '2639.jpg', '4926.jpg', '8856.jpg', '3612.jpg', '10306.jpg', '3051.jpg', '8887.jpg', '11534.jpg', '1880.jpg', '8545.jpg', '11879.jpg', '4001.jpg', '9084.jpg', '11164.jpg', '3952.jpg', '10455.jpg', '5025.jpg', '369.jpg', '6467.jpg', '4269.jpg', '6549.jpg', '4405.jpg', '2829.jpg', '1161.jpg', '7497.jpg', '300.jpg', '5964.jpg', '10743.jpg', '9194.jpg', '9430.jpg', '1016.jpg', '2057.jpg', '1826.jpg', '10537.jpg', '10135.jpg', '7235.jpg', '1582.jpg', '10735.jpg', '8501.jpg', '6198.jpg', '83.jpg', '7865.jpg', '4879.jpg', '2700.jpg', '9077.jpg', '1065.jpg', '9465.jpg', '5300.jpg', '6245.jpg', '6844.jpg', '7168.jpg', '9106.jpg', '5318.jpg', '9057.jpg', '12153.jpg', '2324.jpg', '1900.jpg', '1650.jpg', '2478.jpg', '7069.jpg', '3383.jpg', '1788.jpg', '3207.jpg', '8980.jpg', '1457.jpg', '2579.jpg', '4977.jpg', '10668.jpg', '10816.jpg', '8099.jpg', '6330.jpg', '4801.jpg', '1939.jpg', '4927.jpg', '3945.jpg', '213.jpg', '4256.jpg', '12152.jpg', '515.jpg', '4952.jpg', '2599.jpg', '10441.jpg', '2355.jpg', '6682.jpg', '6913.jpg', '8188.jpg', '4016.jpg', '12411.jpg', '1002.jpg', '1714.jpg', '1634.jpg', '2705.jpg', '8574.jpg', '9291.jpg', '7782.jpg', '1941.jpg', '5271.jpg', '2142.jpg', '3558.jpg', '1417.jpg', '768.jpg', '2681.jpg', '8181.jpg', '12379.jpg', '4667.jpg', '1445.jpg', '5699.jpg', '7044.jpg', '9902.jpg', '7384.jpg', '5420.jpg', '12043.jpg', '11863.jpg', '10677.jpg', '4329.jpg', '7419.jpg', '11706.jpg', '6239.jpg', '1332.jpg', '7003.jpg', '2002.jpg', '9406.jpg', '2438.jpg', '5314.jpg', '7464.jpg', '472.jpg', '12318.jpg', '5453.jpg', '4161.jpg', '9414.jpg', '6695.jpg', '2033.jpg', '9367.jpg', '12291.jpg', '342.jpg', '4704.jpg', '12191.jpg', '6502.jpg', '6082.jpg', '5389.jpg', '3032.jpg', '8285.jpg', '2090.jpg', '249.jpg', '1971.jpg', '3695.jpg', '4383.jpg', '1840.jpg', '10476.jpg', '3279.jpg', '4317.jpg', '8844.jpg', '3327.jpg', '2611.jpg', '7787.jpg', '8633.jpg', '9759.jpg', '564.jpg', '4380.jpg', '240.jpg', '3419.jpg', '5057.jpg', '10639.jpg', '10987.jpg', '5044.jpg', '4925.jpg', '990.jpg', '6760.jpg', '6001.jpg', '8752.jpg', '8568.jpg', '9547.jpg', '5486.jpg', '7961.jpg', '1762.jpg', '5368.jpg', '9396.jpg', '10969.jpg', '2113.jpg', '6353.jpg', '732.jpg', '115.jpg', '5874.jpg', '11079.jpg', '6460.jpg', '5471.jpg', '6943.jpg', '4597.jpg', '11066.jpg', '3702.jpg', '550.jpg', '11088.jpg', '2767.jpg', '12100.jpg', '11890.jpg', '4792.jpg', '4438.jpg', '6056.jpg', '11358.jpg', '9200.jpg', '12094.jpg', '5373.jpg', '10612.jpg', '1210.jpg', '7580.jpg', '10238.jpg', '11584.jpg', '3256.jpg', '9496.jpg', '5605.jpg', '2176.jpg', '519.jpg', '12086.jpg', '5563.jpg', '6306.jpg', '1327.jpg', '11031.jpg', '7457.jpg', '1838.jpg', '600.jpg', '7124.jpg', '8428.jpg', '1972.jpg', '12005.jpg', '8648.jpg', '5673.jpg', '5489.jpg', '3435.jpg', '9049.jpg', '12358.jpg', '3098.jpg', '10572.jpg', '12476.jpg', '6080.jpg', '5561.jpg', '6296.jpg', '11883.jpg', '10324.jpg', '1716.jpg', '4999.jpg', '2539.jpg', '2183.jpg', '5891.jpg', '8301.jpg', '11622.jpg', '904.jpg', '198.jpg', '6769.jpg', '5947.jpg', '12268.jpg', '1940.jpg', '1950.jpg', '2061.jpg', '2267.jpg', '2774.jpg', '3608.jpg', '7851.jpg', '9452.jpg', '10221.jpg', '5657.jpg', '1420.jpg', '2886.jpg', '9953.jpg', '731.jpg', '3740.jpg', '5642.jpg', '3666.jpg', '7465.jpg', '8776.jpg', '10290.jpg', '8448.jpg', '2003.jpg', '5305.jpg', '12261.jpg', '5546.jpg', '7823.jpg', '9250.jpg', '6194.jpg', '4039.jpg', '10963.jpg', '7422.jpg', '6089.jpg', '8575.jpg', '5254.jpg', '2709.jpg', '2135.jpg', '8937.jpg', '2532.jpg', '4463.jpg', '10114.jpg', '6766.jpg', '5629.jpg', '277.jpg', '6150.jpg', '6162.jpg', '6544.jpg', '6213.jpg', '10516.jpg', '9608.jpg', '10233.jpg', '6484.jpg', '9275.jpg', '1303.jpg', '6079.jpg', '7522.jpg', '6828.jpg', '12018.jpg', '1795.jpg', '3408.jpg', '2000.jpg', '214.jpg', '9442.jpg', '169.jpg', '9980.jpg', '2944.jpg', '11731.jpg', '11268.jpg', '4856.jpg', '12454.jpg', '3322.jpg', '10126.jpg', '12429.jpg', '9745.jpg', '2454.jpg', '5113.jpg', '9962.jpg', '6032.jpg', '7245.jpg', '8606.jpg', '11363.jpg', '1081.jpg', '3399.jpg', '9163.jpg', '9056.jpg', '11795.jpg', '8946.jpg', '5082.jpg', '12456.jpg', '5534.jpg', '4372.jpg', '10865.jpg', '2784.jpg', '4074.jpg', '6390.jpg', '11364.jpg', '9654.jpg', '10957.jpg', '9181.jpg', '2214.jpg', '10644.jpg', '6345.jpg', '9099.jpg', '3005.jpg', '736.jpg', '12161.jpg', '11318.jpg', '6783.jpg', '9637.jpg', '9169.jpg', '5902.jpg', '2568.jpg', '8961.jpg', '4558.jpg', '5786.jpg', '9977.jpg', '11728.jpg', '10960.jpg', '6532.jpg', '9824.jpg', '4586.jpg', '4941.jpg', '5144.jpg', '7209.jpg', '701.jpg', '8714.jpg', '9527.jpg', '3120.jpg', '4479.jpg', '1562.jpg', '2160.jpg', '462.jpg', '6773.jpg', '7509.jpg', '9934.jpg', '10492.jpg', '557.jpg', '12300.jpg', '11333.jpg', '12448.jpg', '10344.jpg', '11136.jpg', '9881.jpg', '4970.jpg', '11779.jpg', '9559.jpg', '12238.jpg', '7267.jpg', '6178.jpg', '5597.jpg', '12285.jpg', '4062.jpg', '11505.jpg', '5615.jpg', '6091.jpg', '1599.jpg', '12044.jpg', '5450.jpg', '6617.jpg', '6207.jpg', '11402.jpg', '8737.jpg', '7717.jpg', '10728.jpg', '8211.jpg', '8632.jpg', '4794.jpg', '3010.jpg', '11148.jpg', '10787.jpg', '7876.jpg', '2799.jpg', '1819.jpg', '3683.jpg', '67.jpg', '9145.jpg', '12224.jpg', '10838.jpg', '4928.jpg', '12487.jpg', '10562.jpg', '3403.jpg', '8163.jpg', '447.jpg', '5061.jpg', '5532.jpg', '8804.jpg', '9572.jpg', '6713.jpg', '7901.jpg', '32.jpg', '10618.jpg', '3230.jpg', '4065.jpg', '9963.jpg', '3270.jpg', '4416.jpg', '758.jpg', '651.jpg', '2644.jpg', '3173.jpg', '9419.jpg', '4422.jpg', '12305.jpg', '5685.jpg', '4485.jpg', '11769.jpg', '3590.jpg', '656.jpg', '3618.jpg', '11553.jpg', '1345.jpg', '6613.jpg', '1380.jpg', '883.jpg', '4866.jpg', '9303.jpg', '10854.jpg', '10762.jpg', '8886.jpg', '6491.jpg', '2608.jpg', '8998.jpg', '6831.jpg', '6651.jpg', '2234.jpg', '8339.jpg', '4388.jpg', '4725.jpg', '11347.jpg', '1102.jpg', '8352.jpg', '796.jpg', '1251.jpg', '8079.jpg', '2562.jpg', '9607.jpg', '6169.jpg', '8465.jpg', '8310.jpg', '6201.jpg', '2076.jpg', '6537.jpg', '5286.jpg', '7282.jpg', '3872.jpg', '11797.jpg', '9459.jpg', '344.jpg', '11674.jpg', '9614.jpg', '7970.jpg', '4718.jpg', '7894.jpg', '5776.jpg', '12259.jpg', '10627.jpg', '9639.jpg', '1672.jpg', '6071.jpg', '5790.jpg', '3795.jpg', '10722.jpg', '11550.jpg', '6065.jpg', '7763.jpg', '9249.jpg', '3485.jpg', '3723.jpg', '3123.jpg', '329.jpg', '2837.jpg', '735.jpg', '1988.jpg', '312.jpg', '7213.jpg', '7326.jpg', '8563.jpg', '6569.jpg', '9571.jpg', '9825.jpg', '1091.jpg', '2440.jpg', '7888.jpg', '10667.jpg', '7740.jpg', '11939.jpg', '9581.jpg', '9836.jpg', '3551.jpg', '976.jpg', '7652.jpg', '2903.jpg', '269.jpg', '900.jpg', '12430.jpg', '7157.jpg', '6266.jpg', '11527.jpg', '4914.jpg', '4816.jpg', '9423.jpg', '5396.jpg', '395.jpg', '8850.jpg', '2981.jpg', '8334.jpg', '3794.jpg', '439.jpg', '1710.jpg', '920.jpg', '340.jpg', '12458.jpg', '9988.jpg', '9160.jpg', '6947.jpg', '7420.jpg', '9516.jpg', '10237.jpg', '8529.jpg', '6156.jpg', '7265.jpg', '10499.jpg', '2925.jpg', '11699.jpg', '12419.jpg', '5216.jpg', '3712.jpg', '10096.jpg', '4556.jpg', '6889.jpg', '2605.jpg', '3363.jpg', '11472.jpg', '10596.jpg', '97.jpg', '1654.jpg', '10164.jpg', '7350.jpg', '12377.jpg', '11114.jpg', '9931.jpg', '11720.jpg', '4142.jpg', '6170.jpg', '8523.jpg', '4722.jpg', '10931.jpg', '162.jpg', '11953.jpg', '3029.jpg', '560.jpg', '5932.jpg', '2985.jpg', '12428.jpg', '11850.jpg', '5381.jpg', '5638.jpg', '4336.jpg', '11053.jpg', '4345.jpg', '5756.jpg', '2463.jpg', '6657.jpg', '4652.jpg', '1285.jpg', '5347.jpg', '6113.jpg', '10875.jpg', '7462.jpg', '6157.jpg', '11303.jpg', '8375.jpg', '133.jpg', '4072.jpg', '334.jpg', '6412.jpg', '7812.jpg', '11263.jpg', '4267.jpg', '8982.jpg', '7268.jpg', '11244.jpg', '9187.jpg', '3438.jpg', '4314.jpg', '4870.jpg', '8664.jpg', '170.jpg', '467.jpg', '10593.jpg', '2574.jpg', '11400.jpg', '9539.jpg', '2971.jpg', '1106.jpg', '8583.jpg', '2719.jpg', '10446.jpg', '9748.jpg', '6413.jpg', '10076.jpg', '806.jpg', '1816.jpg', '5193.jpg', '10432.jpg', '3668.jpg', '4465.jpg', '1902.jpg', '416.jpg', '3320.jpg', '7608.jpg', '11976.jpg', '7699.jpg', '11058.jpg', '7210.jpg', '3063.jpg', '10422.jpg', '11226.jpg', '9021.jpg', '3228.jpg', '1157.jpg', '3709.jpg', '11583.jpg', '2884.jpg', '3245.jpg', '1958.jpg', '11312.jpg', '7048.jpg', '11109.jpg', '2005.jpg', '8277.jpg', '3215.jpg', '2240.jpg', '2629.jpg', '9966.jpg', '3477.jpg', '5224.jpg', '8089.jpg', '4676.jpg', '685.jpg', '8045.jpg', '9751.jpg', '3670.jpg', '129.jpg', '11439.jpg', '7430.jpg', '11051.jpg', '3433.jpg', '11100.jpg', '1943.jpg', '7533.jpg', '9245.jpg', '11633.jpg', '8697.jpg', '4177.jpg', '2650.jpg', '8464.jpg', '3781.jpg', '10396.jpg', '7418.jpg', '11691.jpg', '9247.jpg', '6790.jpg', '1642.jpg', '6957.jpg', '5423.jpg', '9499.jpg', '5225.jpg', '892.jpg', '9658.jpg', '3575.jpg', '6700.jpg', '8362.jpg', '2793.jpg', '2768.jpg', '10866.jpg', '10075.jpg', '4303.jpg', '6884.jpg', '8817.jpg', '12068.jpg', '3149.jpg', '1543.jpg', '135.jpg', '191.jpg', '6832.jpg', '5593.jpg', '9919.jpg', '9939.jpg', '6926.jpg', '7570.jpg', '816.jpg', '5543.jpg', '7138.jpg', '1565.jpg', '5850.jpg', '8983.jpg', '5846.jpg', '10673.jpg', '449.jpg', '7082.jpg', '756.jpg', '1070.jpg', '7043.jpg', '5246.jpg', '182.jpg', '5654.jpg', '8968.jpg', '2934.jpg', '2216.jpg', '301.jpg', '4549.jpg', '3849.jpg', '5114.jpg', '3255.jpg', '8906.jpg', '8934.jpg', '9760.jpg', '4843.jpg', '12124.jpg', '3987.jpg', '11538.jpg', '2315.jpg', '10451.jpg', '110.jpg', '4432.jpg', '8557.jpg', '984.jpg', '4182.jpg', '2038.jpg', '8760.jpg', '5666.jpg', '2606.jpg', '914.jpg', '10887.jpg', '6675.jpg', '10888.jpg', '8719.jpg', '4504.jpg', '3655.jpg', '10071.jpg', '7178.jpg', '3766.jpg', '12433.jpg', '11641.jpg', '6269.jpg', '12338.jpg', '4600.jpg', '2558.jpg', '2025.jpg', '5624.jpg', '3832.jpg', '11607.jpg', '7890.jpg', '392.jpg', '305.jpg', '4349.jpg', '5861.jpg', '12231.jpg', '8356.jpg', '9280.jpg', '9674.jpg', '1872.jpg', '4902.jpg', '7196.jpg', '7281.jpg', '5051.jpg', '474.jpg', '3195.jpg', '8025.jpg', '5851.jpg', '59.jpg', '865.jpg', '3772.jpg', '1018.jpg', '8291.jpg', '274.jpg', '3235.jpg', '5282.jpg', '6653.jpg', '1569.jpg', '3231.jpg', '9377.jpg', '11450.jpg', '1324.jpg', '4331.jpg', '10496.jpg', '11621.jpg', '12.jpg', '8613.jpg', '3648.jpg', '2880.jpg', '12479.jpg', '3156.jpg', '11186.jpg', '10705.jpg', '3746.jpg', '4233.jpg', '12404.jpg', '6320.jpg', '673.jpg', '7251.jpg', '2741.jpg', '3474.jpg', '11056.jpg', '11543.jpg', '693.jpg', '12038.jpg', '7887.jpg', '11175.jpg', '10142.jpg', '2931.jpg', '6905.jpg', '11810.jpg', '1238.jpg', '2752.jpg', '6372.jpg', '10675.jpg', '8797.jpg', '3617.jpg', '3918.jpg', '8234.jpg', '6912.jpg', '9227.jpg', '10286.jpg', '6721.jpg', '3246.jpg', '1535.jpg', '8393.jpg', '6840.jpg', '563.jpg', '10900.jpg', '1507.jpg', '5308.jpg', '3741.jpg', '3736.jpg', '4686.jpg', '8940.jpg', '1037.jpg', '12138.jpg', '8559.jpg', '1908.jpg', '9579.jpg', '3652.jpg', '7071.jpg', '3621.jpg', '2844.jpg', '1253.jpg', '7513.jpg', '3588.jpg', '12093.jpg', '10716.jpg', '485.jpg', '1530.jpg', '7293.jpg', '9307.jpg', '9786.jpg', '11353.jpg', '12166.jpg', '596.jpg', '12369.jpg', '10669.jpg', '5440.jpg', '9729.jpg', '7288.jpg', '7938.jpg', '8666.jpg', '4526.jpg', '1483.jpg', '7202.jpg', '1868.jpg', '1025.jpg', '1585.jpg', '7439.jpg', '5530.jpg', '6392.jpg', '3197.jpg', '11807.jpg', '349.jpg', '4749.jpg', '1655.jpg', '5513.jpg', '3565.jpg', '6295.jpg', '11918.jpg', '4509.jpg', '7788.jpg', '10678.jpg', '2786.jpg', '11285.jpg', '4606.jpg', '7925.jpg', '3761.jpg', '3300.jpg', '3189.jpg', '11924.jpg', '8720.jpg', '377.jpg', '4862.jpg', '6029.jpg', '625.jpg', '989.jpg', '11483.jpg', '450.jpg', '4279.jpg', '2495.jpg', '1600.jpg', '7274.jpg', '4669.jpg', '5623.jpg', '11503.jpg', '11395.jpg', '5961.jpg', '636.jpg', '10069.jpg', '9823.jpg', '5590.jpg', '11313.jpg', '3411.jpg', '4850.jpg', '8132.jpg', '8819.jpg', '2468.jpg', '3544.jpg', '3729.jpg', '1302.jpg', '10215.jpg', '3461.jpg', '2148.jpg', '1979.jpg', '10842.jpg', '10585.jpg', '3333.jpg', '8261.jpg', '6232.jpg', '8754.jpg', '4605.jpg', '12376.jpg', '10542.jpg', '1966.jpg', '4301.jpg', '9864.jpg', '3522.jpg', '6300.jpg', '12253.jpg', '9536.jpg', '8103.jpg', '9431.jpg', '11775.jpg', '11336.jpg', '2634.jpg', '11684.jpg', '5650.jpg', '9838.jpg', '833.jpg', '6568.jpg', '7034.jpg', '4101.jpg', '8925.jpg', '11624.jpg', '4036.jpg', '9646.jpg', '9165.jpg', '11241.jpg', '7305.jpg', '4417.jpg', '4723.jpg', '10832.jpg', '10836.jpg', '8881.jpg', '2491.jpg', '1099.jpg', '4729.jpg', '5631.jpg', '986.jpg', '4804.jpg', '3301.jpg', '10153.jpg', '12440.jpg', '12046.jpg', '2590.jpg', '1748.jpg', '8828.jpg', '12267.jpg', '6218.jpg', '12308.jpg', '6956.jpg', '2270.jpg', '8641.jpg', '7151.jpg', '11299.jpg', '3532.jpg', '10970.jpg', '4203.jpg', '6235.jpg', '4498.jpg', '6177.jpg', '3160.jpg', '6726.jpg', '8007.jpg', '3373.jpg', '6897.jpg', '7036.jpg', '7566.jpg', '9261.jpg', '3857.jpg', '3568.jpg', '10320.jpg', '3733.jpg', '8221.jpg', '11608.jpg', '2755.jpg', '1171.jpg', '465.jpg', '1247.jpg', '5187.jpg', '37.jpg', '6120.jpg', '4673.jpg', '4833.jpg', '2935.jpg', '4810.jpg', '611.jpg', '9354.jpg', '9130.jpg', '7992.jpg', '5612.jpg', '4601.jpg', '1657.jpg', '5853.jpg', '5310.jpg', '2194.jpg', '236.jpg', '8597.jpg', '12017.jpg', '2325.jpg', '1583.jpg', '11847.jpg', '3808.jpg', '9401.jpg', '5754.jpg']\n",
            "\n",
            "\n",
            "Original cat's directory has 12500 images\n",
            "Original dog's directory has 12500 images\n",
            "\n",
            "There are 11249 images of cats for training\n",
            "There are 11249 images of dogs for training\n",
            "There are 1250 images of cats for validation\n",
            "There are 1250 images of dogs for validation\n"
          ]
        }
      ],
      "source": [
        "# grader-required-cell\n",
        "\n",
        "# Test your split_data function\n",
        "\n",
        "# Define paths\n",
        "CAT_SOURCE_DIR = \"/tmp/PetImages/Cat/\"\n",
        "DOG_SOURCE_DIR = \"/tmp/PetImages/Dog/\"\n",
        "\n",
        "TRAINING_DIR = \"/tmp/cats-v-dogs/training/\"\n",
        "VALIDATION_DIR = \"/tmp/cats-v-dogs/validation/\"\n",
        "\n",
        "TRAINING_CATS_DIR = os.path.join(TRAINING_DIR, \"cats/\")\n",
        "VALIDATION_CATS_DIR = os.path.join(VALIDATION_DIR, \"cats/\")\n",
        "\n",
        "TRAINING_DOGS_DIR = os.path.join(TRAINING_DIR, \"dogs/\")\n",
        "VALIDATION_DOGS_DIR = os.path.join(VALIDATION_DIR, \"dogs/\")\n",
        "\n",
        "# Empty directories in case you run this cell multiple times\n",
        "if len(os.listdir(TRAINING_CATS_DIR)) > 0:\n",
        "  for file in os.scandir(TRAINING_CATS_DIR):\n",
        "    os.remove(file.path)\n",
        "if len(os.listdir(TRAINING_DOGS_DIR)) > 0:\n",
        "  for file in os.scandir(TRAINING_DOGS_DIR):\n",
        "    os.remove(file.path)\n",
        "if len(os.listdir(VALIDATION_CATS_DIR)) > 0:\n",
        "  for file in os.scandir(VALIDATION_CATS_DIR):\n",
        "    os.remove(file.path)\n",
        "if len(os.listdir(VALIDATION_DOGS_DIR)) > 0:\n",
        "  for file in os.scandir(VALIDATION_DOGS_DIR):\n",
        "    os.remove(file.path)\n",
        "\n",
        "# Define proportion of images used for training\n",
        "split_size = .9\n",
        "\n",
        "# Run the function\n",
        "# NOTE: Messages about zero length images should be printed out\n",
        "split_data(CAT_SOURCE_DIR, TRAINING_CATS_DIR, VALIDATION_CATS_DIR, split_size)\n",
        "split_data(DOG_SOURCE_DIR, TRAINING_DOGS_DIR, VALIDATION_DOGS_DIR, split_size)\n",
        "\n",
        "# Check that the number of images matches the expected output\n",
        "\n",
        "# Your function should perform copies rather than moving images so original directories should contain unchanged images\n",
        "print(f\"\\n\\nOriginal cat's directory has {len(os.listdir(CAT_SOURCE_DIR))} images\")\n",
        "print(f\"Original dog's directory has {len(os.listdir(DOG_SOURCE_DIR))} images\\n\")\n",
        "\n",
        "# Training and validation splits\n",
        "print(f\"There are {len(os.listdir(TRAINING_CATS_DIR))} images of cats for training\")\n",
        "print(f\"There are {len(os.listdir(TRAINING_DOGS_DIR))} images of dogs for training\")\n",
        "print(f\"There are {len(os.listdir(VALIDATION_CATS_DIR))} images of cats for validation\")\n",
        "print(f\"There are {len(os.listdir(VALIDATION_DOGS_DIR))} images of dogs for validation\")"
      ]
    },
    {
      "cell_type": "markdown",
      "id": "866801c2",
      "metadata": {
        "id": "866801c2"
      },
      "source": [
        "**Expected Output:**\n",
        "\n",
        "```\n",
        "666.jpg is zero length, so ignoring.\n",
        "11702.jpg is zero length, so ignoring.\n",
        "\n",
        "\n",
        "Original cat's directory has 12500 images\n",
        "Original dog's directory has 12500 images\n",
        "\n",
        "There are 11249 images of cats for training\n",
        "There are 11249 images of dogs for training\n",
        "There are 1250 images of cats for validation\n",
        "There are 1250 images of dogs for validation\n",
        "```"
      ]
    },
    {
      "cell_type": "markdown",
      "id": "0848b4d7",
      "metadata": {
        "id": "0848b4d7"
      },
      "source": [
        "Now that you have successfully organized the data in a way that can be easily fed to Keras' `ImageDataGenerator`, it is time for you to code the generators that will yield batches of images, both for training and validation. For this, complete the `train_val_generators` function below.\n",
        "\n",
        "Something important to note is that the images in this dataset come in a variety of resolutions. Luckily, the `flow_from_directory` method allows you to standarize this by defining a tuple called `target_size` that will be used to convert each image to this target resolution. **For this exercise, use a `target_size` of (150, 150)**.\n",
        "\n",
        "**Hint:** \n",
        "\n",
        "Don't use data augmentation by setting extra parameters when you instantiate the `ImageDataGenerator` class. This will make the training of your model to take longer to reach the necessary accuracy threshold to pass this assignment and this topic will be covered in the next week."
      ]
    },
    {
      "cell_type": "code",
      "execution_count": 29,
      "id": "072bb609",
      "metadata": {
        "cellView": "code",
        "id": "072bb609",
        "tags": [
          "graded"
        ]
      },
      "outputs": [],
      "source": [
        "# grader-required-cell\n",
        "\n",
        "# GRADED FUNCTION: train_val_generators\n",
        "def train_val_generators(TRAINING_DIR, VALIDATION_DIR):\n",
        "  \"\"\"\n",
        "  Creates the training and validation data generators\n",
        "  \n",
        "  Args:\n",
        "    TRAINING_DIR (string): directory path containing the training images\n",
        "    VALIDATION_DIR (string): directory path containing the testing/validation images\n",
        "    \n",
        "  Returns:\n",
        "    train_generator, validation_generator - tuple containing the generators\n",
        "  \"\"\"\n",
        "  ### START CODE HERE\n",
        "\n",
        "  # Instantiate the ImageDataGenerator class (don't forget to set the rescale argument)\n",
        "  train_datagen = ImageDataGenerator(rescale=1/255)\n",
        "\n",
        "  # Pass in the appropriate arguments to the flow_from_directory method\n",
        "  train_generator = train_datagen.flow_from_directory(directory=TRAINING_DIR,\n",
        "                                                      batch_size=100,\n",
        "                                                      class_mode='binary',\n",
        "                                                      target_size=(150, 150))\n",
        "\n",
        "  # Instantiate the ImageDataGenerator class (don't forget to set the rescale argument)\n",
        "  validation_datagen = ImageDataGenerator(rescale=1/255)\n",
        "\n",
        "  # Pass in the appropriate arguments to the flow_from_directory method\n",
        "  validation_generator = validation_datagen.flow_from_directory(directory=VALIDATION_DIR,\n",
        "                                                                batch_size=100,\n",
        "                                                                class_mode='binary',\n",
        "                                                                target_size=(150, 150))\n",
        "  ### END CODE HERE\n",
        "  return train_generator, validation_generator"
      ]
    },
    {
      "cell_type": "code",
      "execution_count": 30,
      "id": "642806f1",
      "metadata": {
        "id": "642806f1",
        "tags": [
          "graded"
        ],
        "outputId": "d31de8a4-0a95-4f1d-f905-8ec17c2289b3",
        "colab": {
          "base_uri": "https://localhost:8080/"
        }
      },
      "outputs": [
        {
          "output_type": "stream",
          "name": "stdout",
          "text": [
            "Found 22498 images belonging to 2 classes.\n",
            "Found 2500 images belonging to 2 classes.\n"
          ]
        }
      ],
      "source": [
        "# grader-required-cell\n",
        "\n",
        "# Test your generators\n",
        "train_generator, validation_generator = train_val_generators(TRAINING_DIR, VALIDATION_DIR)"
      ]
    },
    {
      "cell_type": "markdown",
      "id": "734f5056",
      "metadata": {
        "id": "734f5056"
      },
      "source": [
        "**Expected Output:**\n",
        "\n",
        "```\n",
        "Found 22498 images belonging to 2 classes.\n",
        "Found 2500 images belonging to 2 classes.\n",
        "```\n"
      ]
    },
    {
      "cell_type": "markdown",
      "id": "89098bc7",
      "metadata": {
        "id": "89098bc7"
      },
      "source": [
        "One last step before training is to define the architecture of the model that will be trained.\n",
        "\n",
        "Complete the `create_model` function below which should return a Keras' `Sequential` model.\n",
        "\n",
        "Aside from defining the architecture of the model, you should also compile it so make sure to use a `loss` function that is compatible with the `class_mode` you defined in the previous exercise, which should also be compatible with the output of your network. You can tell if they aren't compatible if you get an error during training.\n",
        "\n",
        "**Note that you should use at least 3 convolution layers to achieve the desired performance.**"
      ]
    },
    {
      "cell_type": "code",
      "execution_count": 35,
      "id": "6f375c5d",
      "metadata": {
        "cellView": "code",
        "id": "6f375c5d",
        "lines_to_next_cell": 2,
        "tags": [
          "graded"
        ]
      },
      "outputs": [],
      "source": [
        "# grader-required-cell\n",
        "\n",
        "# GRADED FUNCTION: create_model\n",
        "def create_model():\n",
        "  # DEFINE A KERAS MODEL TO CLASSIFY CATS V DOGS\n",
        "  # USE AT LEAST 3 CONVOLUTION LAYERS\n",
        "\n",
        "  ### START CODE HERE\n",
        "\n",
        "  model = tf.keras.models.Sequential([ \n",
        "    tf.keras.layers.Conv2D(32, (3, 3), activation='relu', input_shape=(150, 150, 3)),\n",
        "    tf.keras.layers.MaxPooling2D(2, 2),\n",
        "    tf.keras.layers.Conv2D(32, (3, 3), activation='relu'),\n",
        "    tf.keras.layers.MaxPooling2D(2, 2),\n",
        "    tf.keras.layers.Conv2D(64, (3, 3), activation='relu'),\n",
        "    tf.keras.layers.MaxPooling2D(2, 2),\n",
        "    tf.keras.layers.Flatten(),\n",
        "    tf.keras.layers.Dense(512, activation='relu'),\n",
        "    tf.keras.layers.Dense(1, activation='sigmoid')\n",
        "  ])\n",
        "\n",
        "  \n",
        "  model.compile(optimizer=tf.keras.optimizers.RMSprop(lr=0.001),\n",
        "                loss='binary_crossentropy',\n",
        "                metrics=['accuracy']) \n",
        "    \n",
        "  ### END CODE HERE\n",
        "\n",
        "  return model"
      ]
    },
    {
      "cell_type": "markdown",
      "id": "991de70d",
      "metadata": {
        "id": "991de70d"
      },
      "source": [
        "Now it is time to train your model!\n",
        "\n",
        "**Note:** You can ignore the `UserWarning: Possibly corrupt EXIF data.` warnings."
      ]
    },
    {
      "cell_type": "code",
      "execution_count": 36,
      "id": "fedfe6d0",
      "metadata": {
        "id": "fedfe6d0",
        "tags": [],
        "outputId": "2c502f9a-e375-4029-c4a5-3aa2953a2176",
        "colab": {
          "base_uri": "https://localhost:8080/"
        }
      },
      "outputs": [
        {
          "output_type": "stream",
          "name": "stderr",
          "text": [
            "WARNING:absl:`lr` is deprecated, please use `learning_rate` instead, or use the legacy optimizer, e.g.,tf.keras.optimizers.legacy.RMSprop.\n"
          ]
        },
        {
          "output_type": "stream",
          "name": "stdout",
          "text": [
            "Epoch 1/15\n",
            "  9/225 [>.............................] - ETA: 1:01 - loss: 0.9784 - accuracy: 0.5056"
          ]
        },
        {
          "output_type": "stream",
          "name": "stderr",
          "text": [
            "/usr/local/lib/python3.9/dist-packages/PIL/TiffImagePlugin.py:819: UserWarning: Truncated File Read\n",
            "  warnings.warn(str(msg))\n"
          ]
        },
        {
          "output_type": "stream",
          "name": "stdout",
          "text": [
            "225/225 [==============================] - 96s 377ms/step - loss: 0.6566 - accuracy: 0.6104 - val_loss: 0.5559 - val_accuracy: 0.7272\n",
            "Epoch 2/15\n",
            "225/225 [==============================] - 79s 353ms/step - loss: 0.5339 - accuracy: 0.7303 - val_loss: 0.4955 - val_accuracy: 0.7588\n",
            "Epoch 3/15\n",
            "225/225 [==============================] - 82s 366ms/step - loss: 0.4707 - accuracy: 0.7726 - val_loss: 0.4450 - val_accuracy: 0.7968\n",
            "Epoch 4/15\n",
            "225/225 [==============================] - 80s 357ms/step - loss: 0.4176 - accuracy: 0.8073 - val_loss: 0.4253 - val_accuracy: 0.8068\n",
            "Epoch 5/15\n",
            "225/225 [==============================] - 79s 350ms/step - loss: 0.3710 - accuracy: 0.8332 - val_loss: 0.4164 - val_accuracy: 0.8116\n",
            "Epoch 6/15\n",
            "225/225 [==============================] - 80s 356ms/step - loss: 0.3203 - accuracy: 0.8591 - val_loss: 0.3883 - val_accuracy: 0.8264\n",
            "Epoch 7/15\n",
            "225/225 [==============================] - 79s 350ms/step - loss: 0.2544 - accuracy: 0.8923 - val_loss: 0.4207 - val_accuracy: 0.8184\n",
            "Epoch 8/15\n",
            "225/225 [==============================] - 81s 359ms/step - loss: 0.1860 - accuracy: 0.9267 - val_loss: 0.4228 - val_accuracy: 0.8272\n",
            "Epoch 9/15\n",
            "225/225 [==============================] - 78s 349ms/step - loss: 0.1177 - accuracy: 0.9582 - val_loss: 0.5850 - val_accuracy: 0.8040\n",
            "Epoch 10/15\n",
            "225/225 [==============================] - 79s 350ms/step - loss: 0.0806 - accuracy: 0.9744 - val_loss: 0.6003 - val_accuracy: 0.8224\n",
            "Epoch 11/15\n",
            "225/225 [==============================] - 80s 357ms/step - loss: 0.0465 - accuracy: 0.9865 - val_loss: 0.7533 - val_accuracy: 0.8216\n",
            "Epoch 12/15\n",
            "225/225 [==============================] - 79s 350ms/step - loss: 0.0411 - accuracy: 0.9888 - val_loss: 0.8029 - val_accuracy: 0.8292\n",
            "Epoch 13/15\n",
            "225/225 [==============================] - 82s 365ms/step - loss: 0.0610 - accuracy: 0.9883 - val_loss: 0.9661 - val_accuracy: 0.8192\n",
            "Epoch 14/15\n",
            "225/225 [==============================] - 79s 349ms/step - loss: 0.0571 - accuracy: 0.9895 - val_loss: 0.9458 - val_accuracy: 0.8148\n",
            "Epoch 15/15\n",
            "225/225 [==============================] - 82s 366ms/step - loss: 0.0104 - accuracy: 0.9972 - val_loss: 1.0507 - val_accuracy: 0.8172\n"
          ]
        }
      ],
      "source": [
        "# Get the untrained model\n",
        "model = create_model()\n",
        "\n",
        "# Train the model\n",
        "# Note that this may take some time.\n",
        "history = model.fit(train_generator,\n",
        "                    epochs=15,\n",
        "                    verbose=1,\n",
        "                    validation_data=validation_generator)"
      ]
    },
    {
      "cell_type": "markdown",
      "id": "9a08d2ee",
      "metadata": {
        "id": "9a08d2ee"
      },
      "source": [
        "Once training has finished, you can run the following cell to check the training and validation accuracy achieved at the end of each epoch.\n",
        "\n",
        "**To pass this assignment, your model should achieve a training accuracy of at least 95% and a validation accuracy of at least 80%**. If your model didn't achieve these thresholds, try training again with a different model architecture and remember to use at least 3 convolutional layers."
      ]
    },
    {
      "cell_type": "code",
      "execution_count": 37,
      "id": "70658d4d",
      "metadata": {
        "id": "70658d4d",
        "tags": [],
        "outputId": "15036297-fe98-4ba7-a237-c7079dec09a0",
        "colab": {
          "base_uri": "https://localhost:8080/",
          "height": 548
        }
      },
      "outputs": [
        {
          "output_type": "display_data",
          "data": {
            "text/plain": [
              "<Figure size 432x288 with 1 Axes>"
            ],
            "image/png": "[encoded data removed]"
          },
          "metadata": {
            "needs_background": "light"
          }
        },
        {
          "output_type": "stream",
          "name": "stdout",
          "text": [
            "\n"
          ]
        },
        {
          "output_type": "display_data",
          "data": {
            "text/plain": [
              "<Figure size 432x288 with 1 Axes>"
            ],
            "image/png": "[encoded data removed]"
          },
          "metadata": {
            "needs_background": "light"
          }
        }
      ],
      "source": [
        "#-----------------------------------------------------------\n",
        "# Retrieve a list of list results on training and test data\n",
        "# sets for each training epoch\n",
        "#-----------------------------------------------------------\n",
        "acc=history.history['accuracy']\n",
        "val_acc=history.history['val_accuracy']\n",
        "loss=history.history['loss']\n",
        "val_loss=history.history['val_loss']\n",
        "\n",
        "epochs=range(len(acc)) # Get number of epochs\n",
        "\n",
        "#------------------------------------------------\n",
        "# Plot training and validation accuracy per epoch\n",
        "#------------------------------------------------\n",
        "plt.plot(epochs, acc, 'r', \"Training Accuracy\")\n",
        "plt.plot(epochs, val_acc, 'b', \"Validation Accuracy\")\n",
        "plt.title('Training and validation accuracy')\n",
        "plt.show()\n",
        "print(\"\")\n",
        "\n",
        "#------------------------------------------------\n",
        "# Plot training and validation loss per epoch\n",
        "#------------------------------------------------\n",
        "plt.plot(epochs, loss, 'r', \"Training Loss\")\n",
        "plt.plot(epochs, val_loss, 'b', \"Validation Loss\")\n",
        "plt.show()"
      ]
    },
    {
      "cell_type": "markdown",
      "id": "de6fc5c1",
      "metadata": {
        "id": "de6fc5c1"
      },
      "source": [
        "You will probably encounter that the model is overfitting, which means that it is doing a great job at classifying the images in the training set but struggles with new data. This is perfectly fine and you will learn how to mitigate this issue in the upcoming week.\n",
        "\n",
        "Before downloading this notebook and closing the assignment, be sure to also download the `history.pkl` file which contains the information of the training history of your model. You can download this file by running the cell below:"
      ]
    },
    {
      "cell_type": "code",
      "execution_count": 38,
      "id": "19911c2d",
      "metadata": {
        "id": "19911c2d",
        "tags": [],
        "outputId": "16b0964e-5bfe-46a8-a6bd-254b58cce5e7",
        "colab": {
          "base_uri": "https://localhost:8080/",
          "height": 17
        }
      },
      "outputs": [
        {
          "output_type": "display_data",
          "data": {
            "text/plain": [
              "<IPython.core.display.Javascript object>"
            ],
            "application/javascript": [
              "\n",
              "    async function download(id, filename, size) {\n",
              "      if (!google.colab.kernel.accessAllowed) {\n",
              "        return;\n",
              "      }\n",
              "      const div = document.createElement('div');\n",
              "      const label = document.createElement('label');\n",
              "      label.textContent = `Downloading \"${filename}\": `;\n",
              "      div.appendChild(label);\n",
              "      const progress = document.createElement('progress');\n",
              "      progress.max = size;\n",
              "      div.appendChild(progress);\n",
              "      document.body.appendChild(div);\n",
              "\n",
              "      const buffers = [];\n",
              "      let downloaded = 0;\n",
              "\n",
              "      const channel = await google.colab.kernel.comms.open(id);\n",
              "      // Send a message to notify the kernel that we're ready.\n",
              "      channel.send({})\n",
              "\n",
              "      for await (const message of channel.messages) {\n",
              "        // Send a message to notify the kernel that we're ready.\n",
              "        channel.send({})\n",
              "        if (message.buffers) {\n",
              "          for (const buffer of message.buffers) {\n",
              "            buffers.push(buffer);\n",
              "            downloaded += buffer.byteLength;\n",
              "            progress.value = downloaded;\n",
              "          }\n",
              "        }\n",
              "      }\n",
              "      const blob = new Blob(buffers, {type: 'application/binary'});\n",
              "      const a = document.createElement('a');\n",
              "      a.href = window.URL.createObjectURL(blob);\n",
              "      a.download = filename;\n",
              "      div.appendChild(a);\n",
              "      a.click();\n",
              "      div.remove();\n",
              "    }\n",
              "  "
            ]
          },
          "metadata": {}
        },
        {
          "output_type": "display_data",
          "data": {
            "text/plain": [
              "<IPython.core.display.Javascript object>"
            ],
            "application/javascript": [
              "download(\"download_f91ee981-dc7d-40a9-912b-cca4b7f41d43\", \"history.pkl\", 616)"
            ]
          },
          "metadata": {}
        }
      ],
      "source": [
        "def download_history():\n",
        "  import pickle\n",
        "  from google.colab import files\n",
        "\n",
        "  with open('history.pkl', 'wb') as f:\n",
        "    pickle.dump(history.history, f)\n",
        "\n",
        "  files.download('history.pkl')\n",
        "\n",
        "download_history()"
      ]
    },
    {
      "cell_type": "markdown",
      "id": "bacfa623",
      "metadata": {
        "id": "bacfa623"
      },
      "source": [
        "## Download your notebook for grading\n",
        "\n",
        "Along with the `history.pkl` file, you will also need to submit your solution notebook for grading. The following code cells will check if this notebook's grader metadata (i.e. hidden data in the notebook needed for grading) is not modified by your workspace. This will ensure that the autograder can evaluate your code properly. Depending on its output, you will either:\n",
        "\n",
        "* *if the metadata is intact*: Download the current notebook. Click on the File tab on the upper left corner of the screen then click on `Download -> Download .ipynb.` You can name it anything you want as long as it is a valid `.ipynb` (jupyter notebook) file.\n",
        "<br>\n",
        "\n",
        "* *if the metadata is missing*: A new notebook with your solutions will be created on this Colab workspace. It should be downloaded automatically and you can submit that to the grader. "
      ]
    },
    {
      "cell_type": "code",
      "execution_count": null,
      "id": "7f1b1a67",
      "metadata": {
        "id": "7f1b1a67"
      },
      "outputs": [],
      "source": [
        "# Download metadata checker\n",
        "!wget -nc https://storage.googleapis.com/tensorflow-1-public/colab_metadata_checker.py"
      ]
    },
    {
      "cell_type": "code",
      "execution_count": null,
      "id": "b1133af4",
      "metadata": {
        "id": "b1133af4"
      },
      "outputs": [],
      "source": [
        "import colab_metadata_checker\n",
        "\n",
        "# Please see the output of this cell to see which file you need to submit to the grader\n",
        "colab_metadata_checker.run('C2W1_Assignment_fixed.ipynb')"
      ]
    },
    {
      "cell_type": "markdown",
      "id": "4278bc55",
      "metadata": {
        "id": "4278bc55"
      },
      "source": [
        "**Please disregard the following note if the notebook metadata is detected**\n",
        "\n",
        "_Note: Just in case the download fails for the second point above, you can also do these steps:_\n",
        "* _Click the Folder icon on the left side of this screen to open the File Manager._\n",
        "* _Click the Folder Refresh icon in the File Manager to see the latest files in the workspace. You should see a file ending with a `_fixed.ipynb`._\n",
        "* _Right-click on that file to save locally and submit it to the grader._"
      ]
    },
    {
      "cell_type": "markdown",
      "id": "c8a5425c",
      "metadata": {
        "id": "c8a5425c"
      },
      "source": [
        "**Congratulations on finishing this week's assignment!**\n",
        "\n",
        "You have successfully implemented a convolutional neural network that classifies images of cats and dogs, along with the helper functions needed to pre-process the images!\n",
        "\n",
        "**Keep it up!**"
      ]
    }
  ],
  "metadata": {
    "accelerator": "GPU",
    "kernelspec": {
      "display_name": "Python 3",
      "language": "python",
      "name": "python3"
    },
    "language_info": {
      "codemirror_mode": {
        "name": "ipython",
        "version": 3
      },
      "file_extension": ".py",
      "mimetype": "text/x-python",
      "name": "python",
      "nbconvert_exporter": "python",
      "pygments_lexer": "ipython3",
      "version": "3.7.4"
    },
    "colab": {
      "provenance": []
    }
  },
  "nbformat": 4,
  "nbformat_minor": 5
}